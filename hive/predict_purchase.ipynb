{
 "cells": [
  {
   "cell_type": "code",
   "execution_count": 1,
   "metadata": {},
   "outputs": [],
   "source": [
    "import matplotlib.pyplot as plt\n",
    "import numpy as np\n",
    "import pandas as pd\n",
    "import seaborn as sns\n",
    "import platform\n",
    "from matplotlib import font_manager, rc\n",
    "\n",
    "%matplotlib inline\n",
    "\n",
    "# matplotlib를 통해 차트를 생성할 때 한글이 제대로 표시되지 않기 떄문에 OS에 따라 font 변경\n",
    "if platform.system() == 'Darwin':\n",
    "    rc('font', family='AppleGothic')\n",
    "elif platform.system() == 'Windows':\n",
    "    font_name = font_manager.FontProperties(fname=\"c:/Windows/Fonts/malgun.ttf\").get_name()\n",
    "    rc('font', family=font_name)\n",
    "else:\n",
    "    print('Unknown system... sorry~~~~')    "
   ]
  },
  {
   "cell_type": "code",
   "execution_count": 2,
   "metadata": {},
   "outputs": [
    {
     "name": "stdout",
     "output_type": "stream",
     "text": [
      "(2000, 15)\n"
     ]
    },
    {
     "data": {
      "text/html": [
       "<div>\n",
       "<style>\n",
       "    .dataframe thead tr:only-child th {\n",
       "        text-align: right;\n",
       "    }\n",
       "\n",
       "    .dataframe thead th {\n",
       "        text-align: left;\n",
       "    }\n",
       "\n",
       "    .dataframe tbody tr th {\n",
       "        vertical-align: top;\n",
       "    }\n",
       "</style>\n",
       "<table border=\"1\" class=\"dataframe\">\n",
       "  <thead>\n",
       "    <tr style=\"text-align: right;\">\n",
       "      <th></th>\n",
       "      <th>연구/훈련</th>\n",
       "      <th>계정레벨</th>\n",
       "      <th>로그인</th>\n",
       "      <th>무기강화</th>\n",
       "      <th>소탕</th>\n",
       "      <th>스테이지플레이</th>\n",
       "      <th>뽑기</th>\n",
       "      <th>노점상구매</th>\n",
       "      <th>전투템구매</th>\n",
       "      <th>이벤트상품구매</th>\n",
       "      <th>재화구매</th>\n",
       "      <th>스태미나전송</th>\n",
       "      <th>캐릭터제작</th>\n",
       "      <th>가속</th>\n",
       "      <th>결제여부</th>\n",
       "    </tr>\n",
       "    <tr>\n",
       "      <th>닉네임</th>\n",
       "      <th></th>\n",
       "      <th></th>\n",
       "      <th></th>\n",
       "      <th></th>\n",
       "      <th></th>\n",
       "      <th></th>\n",
       "      <th></th>\n",
       "      <th></th>\n",
       "      <th></th>\n",
       "      <th></th>\n",
       "      <th></th>\n",
       "      <th></th>\n",
       "      <th></th>\n",
       "      <th></th>\n",
       "      <th></th>\n",
       "    </tr>\n",
       "  </thead>\n",
       "  <tbody>\n",
       "    <tr>\n",
       "      <th>청월영</th>\n",
       "      <td>5</td>\n",
       "      <td>4</td>\n",
       "      <td>12</td>\n",
       "      <td>1</td>\n",
       "      <td>107</td>\n",
       "      <td>35</td>\n",
       "      <td>53</td>\n",
       "      <td>11</td>\n",
       "      <td>0</td>\n",
       "      <td>0</td>\n",
       "      <td>6</td>\n",
       "      <td>0</td>\n",
       "      <td>0</td>\n",
       "      <td>0</td>\n",
       "      <td>0</td>\n",
       "    </tr>\n",
       "    <tr>\n",
       "      <th>간장공장</th>\n",
       "      <td>5</td>\n",
       "      <td>3</td>\n",
       "      <td>11</td>\n",
       "      <td>2</td>\n",
       "      <td>44</td>\n",
       "      <td>75</td>\n",
       "      <td>21</td>\n",
       "      <td>11</td>\n",
       "      <td>0</td>\n",
       "      <td>0</td>\n",
       "      <td>1</td>\n",
       "      <td>0</td>\n",
       "      <td>1</td>\n",
       "      <td>5</td>\n",
       "      <td>0</td>\n",
       "    </tr>\n",
       "    <tr>\n",
       "      <th>에돌이</th>\n",
       "      <td>9</td>\n",
       "      <td>5</td>\n",
       "      <td>3</td>\n",
       "      <td>2</td>\n",
       "      <td>76</td>\n",
       "      <td>55</td>\n",
       "      <td>40</td>\n",
       "      <td>6</td>\n",
       "      <td>0</td>\n",
       "      <td>3</td>\n",
       "      <td>0</td>\n",
       "      <td>0</td>\n",
       "      <td>0</td>\n",
       "      <td>0</td>\n",
       "      <td>0</td>\n",
       "    </tr>\n",
       "    <tr>\n",
       "      <th>샤킁</th>\n",
       "      <td>7</td>\n",
       "      <td>11</td>\n",
       "      <td>8</td>\n",
       "      <td>18</td>\n",
       "      <td>47</td>\n",
       "      <td>66</td>\n",
       "      <td>5</td>\n",
       "      <td>6</td>\n",
       "      <td>3</td>\n",
       "      <td>1</td>\n",
       "      <td>0</td>\n",
       "      <td>3</td>\n",
       "      <td>3</td>\n",
       "      <td>0</td>\n",
       "      <td>0</td>\n",
       "    </tr>\n",
       "    <tr>\n",
       "      <th>지푸라기</th>\n",
       "      <td>10</td>\n",
       "      <td>3</td>\n",
       "      <td>11</td>\n",
       "      <td>7</td>\n",
       "      <td>83</td>\n",
       "      <td>36</td>\n",
       "      <td>47</td>\n",
       "      <td>9</td>\n",
       "      <td>5</td>\n",
       "      <td>0</td>\n",
       "      <td>0</td>\n",
       "      <td>5</td>\n",
       "      <td>0</td>\n",
       "      <td>5</td>\n",
       "      <td>0</td>\n",
       "    </tr>\n",
       "  </tbody>\n",
       "</table>\n",
       "</div>"
      ],
      "text/plain": [
       "      연구/훈련  계정레벨  로그인  무기강화   소탕  스테이지플레이  뽑기  노점상구매  전투템구매  이벤트상품구매  재화구매  \\\n",
       "닉네임                                                                           \n",
       "청월영       5     4   12     1  107       35  53     11      0        0     6   \n",
       "간장공장      5     3   11     2   44       75  21     11      0        0     1   \n",
       "에돌이       9     5    3     2   76       55  40      6      0        3     0   \n",
       "샤킁        7    11    8    18   47       66   5      6      3        1     0   \n",
       "지푸라기     10     3   11     7   83       36  47      9      5        0     0   \n",
       "\n",
       "      스태미나전송  캐릭터제작  가속  결제여부  \n",
       "닉네임                            \n",
       "청월영        0      0   0     0  \n",
       "간장공장       0      1   5     0  \n",
       "에돌이        0      0   0     0  \n",
       "샤킁         3      3   0     0  \n",
       "지푸라기       5      0   5     0  "
      ]
     },
     "execution_count": 2,
     "metadata": {},
     "output_type": "execute_result"
    }
   ],
   "source": [
    "# train.csv 데이터 로드\n",
    "train = pd.read_csv(\"./data/data.csv\", index_col=[\"닉네임\"])\n",
    "\n",
    "# 업데이트 되지 않은 컨텐츠 제거\n",
    "train.drop(\"서브스테이지플레이\", axis=1, inplace=True)\n",
    "train.drop(\"레이드플레이\", axis=1, inplace=True)\n",
    "train.drop(\"수색\", axis=1, inplace=True)\n",
    "train.drop(\"아이템제작\", axis=1, inplace=True)\n",
    "\n",
    "print(train.shape)\n",
    "train.head()"
   ]
  },
  {
   "cell_type": "markdown",
   "metadata": {},
   "source": [
    "## 데이터셋 분리\n",
    "* 학습용 데이터셋\n",
    "* 검증용 데이터셋\n",
    "* 검증 정답지"
   ]
  },
  {
   "cell_type": "code",
   "execution_count": 3,
   "metadata": {},
   "outputs": [
    {
     "name": "stdout",
     "output_type": "stream",
     "text": [
      "(500, 14)\n"
     ]
    },
    {
     "name": "stderr",
     "output_type": "stream",
     "text": [
      "/anaconda3/lib/python3.6/site-packages/ipykernel_launcher.py:11: SettingWithCopyWarning: \n",
      "A value is trying to be set on a copy of a slice from a DataFrame\n",
      "\n",
      "See the caveats in the documentation: http://pandas.pydata.org/pandas-docs/stable/indexing.html#indexing-view-versus-copy\n",
      "  # This is added back by InteractiveShellApp.init_path()\n"
     ]
    },
    {
     "data": {
      "text/html": [
       "<div>\n",
       "<style>\n",
       "    .dataframe thead tr:only-child th {\n",
       "        text-align: right;\n",
       "    }\n",
       "\n",
       "    .dataframe thead th {\n",
       "        text-align: left;\n",
       "    }\n",
       "\n",
       "    .dataframe tbody tr th {\n",
       "        vertical-align: top;\n",
       "    }\n",
       "</style>\n",
       "<table border=\"1\" class=\"dataframe\">\n",
       "  <thead>\n",
       "    <tr style=\"text-align: right;\">\n",
       "      <th></th>\n",
       "      <th>연구/훈련</th>\n",
       "      <th>계정레벨</th>\n",
       "      <th>로그인</th>\n",
       "      <th>무기강화</th>\n",
       "      <th>소탕</th>\n",
       "      <th>스테이지플레이</th>\n",
       "      <th>뽑기</th>\n",
       "      <th>노점상구매</th>\n",
       "      <th>전투템구매</th>\n",
       "      <th>이벤트상품구매</th>\n",
       "      <th>재화구매</th>\n",
       "      <th>스태미나전송</th>\n",
       "      <th>캐릭터제작</th>\n",
       "      <th>가속</th>\n",
       "    </tr>\n",
       "    <tr>\n",
       "      <th>닉네임</th>\n",
       "      <th></th>\n",
       "      <th></th>\n",
       "      <th></th>\n",
       "      <th></th>\n",
       "      <th></th>\n",
       "      <th></th>\n",
       "      <th></th>\n",
       "      <th></th>\n",
       "      <th></th>\n",
       "      <th></th>\n",
       "      <th></th>\n",
       "      <th></th>\n",
       "      <th></th>\n",
       "      <th></th>\n",
       "    </tr>\n",
       "  </thead>\n",
       "  <tbody>\n",
       "    <tr>\n",
       "      <th>청월영</th>\n",
       "      <td>7</td>\n",
       "      <td>13</td>\n",
       "      <td>11</td>\n",
       "      <td>1</td>\n",
       "      <td>106</td>\n",
       "      <td>49</td>\n",
       "      <td>26</td>\n",
       "      <td>7</td>\n",
       "      <td>0</td>\n",
       "      <td>0</td>\n",
       "      <td>3</td>\n",
       "      <td>0</td>\n",
       "      <td>2</td>\n",
       "      <td>0</td>\n",
       "    </tr>\n",
       "    <tr>\n",
       "      <th>지푸라기</th>\n",
       "      <td>10</td>\n",
       "      <td>4</td>\n",
       "      <td>6</td>\n",
       "      <td>1</td>\n",
       "      <td>52</td>\n",
       "      <td>66</td>\n",
       "      <td>43</td>\n",
       "      <td>9</td>\n",
       "      <td>8</td>\n",
       "      <td>4</td>\n",
       "      <td>1</td>\n",
       "      <td>8</td>\n",
       "      <td>1</td>\n",
       "      <td>4</td>\n",
       "    </tr>\n",
       "    <tr>\n",
       "      <th>루미</th>\n",
       "      <td>41</td>\n",
       "      <td>3</td>\n",
       "      <td>22</td>\n",
       "      <td>0</td>\n",
       "      <td>26</td>\n",
       "      <td>68</td>\n",
       "      <td>15</td>\n",
       "      <td>0</td>\n",
       "      <td>1</td>\n",
       "      <td>2</td>\n",
       "      <td>0</td>\n",
       "      <td>1</td>\n",
       "      <td>2</td>\n",
       "      <td>0</td>\n",
       "    </tr>\n",
       "    <tr>\n",
       "      <th>DREAM</th>\n",
       "      <td>8</td>\n",
       "      <td>2</td>\n",
       "      <td>12</td>\n",
       "      <td>10</td>\n",
       "      <td>67</td>\n",
       "      <td>34</td>\n",
       "      <td>29</td>\n",
       "      <td>4</td>\n",
       "      <td>0</td>\n",
       "      <td>0</td>\n",
       "      <td>14</td>\n",
       "      <td>0</td>\n",
       "      <td>0</td>\n",
       "      <td>5</td>\n",
       "    </tr>\n",
       "    <tr>\n",
       "      <th>먼저간다</th>\n",
       "      <td>17</td>\n",
       "      <td>4</td>\n",
       "      <td>11</td>\n",
       "      <td>7</td>\n",
       "      <td>59</td>\n",
       "      <td>37</td>\n",
       "      <td>33</td>\n",
       "      <td>13</td>\n",
       "      <td>24</td>\n",
       "      <td>0</td>\n",
       "      <td>4</td>\n",
       "      <td>24</td>\n",
       "      <td>1</td>\n",
       "      <td>0</td>\n",
       "    </tr>\n",
       "  </tbody>\n",
       "</table>\n",
       "</div>"
      ],
      "text/plain": [
       "       연구/훈련  계정레벨  로그인  무기강화   소탕  스테이지플레이  뽑기  노점상구매  전투템구매  이벤트상품구매  재화구매  \\\n",
       "닉네임                                                                            \n",
       "청월영        7    13   11     1  106       49  26      7      0        0     3   \n",
       "지푸라기      10     4    6     1   52       66  43      9      8        4     1   \n",
       "루미        41     3   22     0   26       68  15      0      1        2     0   \n",
       "DREAM      8     2   12    10   67       34  29      4      0        0    14   \n",
       "먼저간다      17     4   11     7   59       37  33     13     24        0     4   \n",
       "\n",
       "       스태미나전송  캐릭터제작  가속  \n",
       "닉네임                       \n",
       "청월영         0      2   0  \n",
       "지푸라기        8      1   4  \n",
       "루미          1      2   0  \n",
       "DREAM       0      0   5  \n",
       "먼저간다       24      1   0  "
      ]
     },
     "execution_count": 3,
     "metadata": {},
     "output_type": "execute_result"
    }
   ],
   "source": [
    "# 끝의 500개의 데이터를 테스트 데이터셋으로 사용\n",
    "test = train[1500:]\n",
    "\n",
    "# 학습용 데이터셋에서 테스트로 사용할 500개 제외\n",
    "train.drop(train.index[1500:], inplace=True)\n",
    "\n",
    "# 테스트 정답지\n",
    "y_test = test[\"결제여부\"]\n",
    "\n",
    "# 테스트 데이터셋에서 정답 제거\n",
    "test.drop(\"결제여부\", axis=1, inplace=True)\n",
    "print(test.shape)\n",
    "test.head()"
   ]
  },
  {
   "cell_type": "code",
   "execution_count": 4,
   "metadata": {},
   "outputs": [
    {
     "data": {
      "text/plain": [
       "<matplotlib.axes._subplots.AxesSubplot at 0x10656feb8>"
      ]
     },
     "execution_count": 4,
     "metadata": {},
     "output_type": "execute_result"
    },
    {
     "data": {
      "image/png": "[encoded data removed]",
      "text/plain": [
       "<matplotlib.figure.Figure at 0x108f4b128>"
      ]
     },
     "metadata": {},
     "output_type": "display_data"
    }
   ],
   "source": [
    "data=train[[\"뽑기\"]]\n",
    "sns.rugplot(data)"
   ]
  },
  {
   "cell_type": "code",
   "execution_count": 5,
   "metadata": {},
   "outputs": [
    {
     "data": {
      "text/plain": [
       "<matplotlib.axes._subplots.AxesSubplot at 0x1a173156a0>"
      ]
     },
     "execution_count": 5,
     "metadata": {},
     "output_type": "execute_result"
    },
    {
     "data": {
      "image/png": "[encoded data removed]",
      "text/plain": [
       "<matplotlib.figure.Figure at 0x1a0e58c668>"
      ]
     },
     "metadata": {},
     "output_type": "display_data"
    }
   ],
   "source": [
    "sns.countplot(x=\"계정레벨\", data=train)"
   ]
  },
  {
   "cell_type": "code",
   "execution_count": 6,
   "metadata": {},
   "outputs": [
    {
     "data": {
      "text/plain": [
       "<seaborn.axisgrid.JointGrid at 0x1a17447dd8>"
      ]
     },
     "execution_count": 6,
     "metadata": {},
     "output_type": "execute_result"
    },
    {
     "data": {
      "image/png": "[encoded data removed]",
      "text/plain": [
       "<matplotlib.figure.Figure at 0x1a17447e10>"
      ]
     },
     "metadata": {},
     "output_type": "display_data"
    },
    {
     "data": {
      "image/png": "[encoded data removed]",
      "text/plain": [
       "<matplotlib.figure.Figure at 0x1a17447a58>"
      ]
     },
     "metadata": {},
     "output_type": "display_data"
    }
   ],
   "source": [
    "# 레벨에 따른 뽑기 횟수\n",
    "sns.jointplot(x=\"계정레벨\", y=\"뽑기\", data=train)\n",
    "\n",
    "# 레벨에 따른 노점상구매 횟수\n",
    "sns.jointplot(x=\"계정레벨\", y=\"노점상구매\", data=train)"
   ]
  },
  {
   "cell_type": "code",
   "execution_count": 7,
   "metadata": {},
   "outputs": [
    {
     "data": {
      "text/plain": [
       "<seaborn.axisgrid.JointGrid at 0x1a17b2e3c8>"
      ]
     },
     "execution_count": 7,
     "metadata": {},
     "output_type": "execute_result"
    },
    {
     "data": {
      "image/png": "[encoded data removed]",
      "text/plain": [
       "<matplotlib.figure.Figure at 0x1a177f86d8>"
      ]
     },
     "metadata": {},
     "output_type": "display_data"
    },
    {
     "data": {
      "image/png": "[encoded data removed]",
      "text/plain": [
       "<matplotlib.figure.Figure at 0x1a177edba8>"
      ]
     },
     "metadata": {},
     "output_type": "display_data"
    }
   ],
   "source": [
    "# 레벨에 따른 노점상구매 횟수\n",
    "sns.jointplot(x=\"계정레벨\", y=\"재화구매\", data=train)\n",
    "sns.jointplot(x=\"계정레벨\", y=\"재화구매\", data=train, kind=\"kde\")"
   ]
  },
  {
   "cell_type": "code",
   "execution_count": 8,
   "metadata": {},
   "outputs": [
    {
     "data": {
      "text/html": [
       "<div>\n",
       "<style>\n",
       "    .dataframe thead tr:only-child th {\n",
       "        text-align: right;\n",
       "    }\n",
       "\n",
       "    .dataframe thead th {\n",
       "        text-align: left;\n",
       "    }\n",
       "\n",
       "    .dataframe tbody tr th {\n",
       "        vertical-align: top;\n",
       "    }\n",
       "</style>\n",
       "<table border=\"1\" class=\"dataframe\">\n",
       "  <thead>\n",
       "    <tr style=\"text-align: right;\">\n",
       "      <th></th>\n",
       "      <th>연구/훈련</th>\n",
       "      <th>계정레벨</th>\n",
       "      <th>로그인</th>\n",
       "      <th>무기강화</th>\n",
       "      <th>소탕</th>\n",
       "      <th>스테이지플레이</th>\n",
       "      <th>뽑기</th>\n",
       "      <th>노점상구매</th>\n",
       "      <th>전투템구매</th>\n",
       "      <th>이벤트상품구매</th>\n",
       "      <th>재화구매</th>\n",
       "      <th>스태미나전송</th>\n",
       "      <th>캐릭터제작</th>\n",
       "      <th>가속</th>\n",
       "      <th>결제여부</th>\n",
       "    </tr>\n",
       "  </thead>\n",
       "  <tbody>\n",
       "    <tr>\n",
       "      <th>연구/훈련</th>\n",
       "      <td>1.000</td>\n",
       "      <td>0.004</td>\n",
       "      <td>0.169</td>\n",
       "      <td>-0.020</td>\n",
       "      <td>-0.028</td>\n",
       "      <td>-0.024</td>\n",
       "      <td>0.127</td>\n",
       "      <td>0.102</td>\n",
       "      <td>-0.024</td>\n",
       "      <td>0.023</td>\n",
       "      <td>0.172</td>\n",
       "      <td>-0.024</td>\n",
       "      <td>0.025</td>\n",
       "      <td>0.122</td>\n",
       "      <td>0.077</td>\n",
       "    </tr>\n",
       "    <tr>\n",
       "      <th>계정레벨</th>\n",
       "      <td>0.004</td>\n",
       "      <td>1.000</td>\n",
       "      <td>-0.152</td>\n",
       "      <td>0.211</td>\n",
       "      <td>0.116</td>\n",
       "      <td>0.226</td>\n",
       "      <td>-0.233</td>\n",
       "      <td>0.083</td>\n",
       "      <td>0.135</td>\n",
       "      <td>0.167</td>\n",
       "      <td>0.242</td>\n",
       "      <td>0.135</td>\n",
       "      <td>0.337</td>\n",
       "      <td>-0.276</td>\n",
       "      <td>0.069</td>\n",
       "    </tr>\n",
       "    <tr>\n",
       "      <th>로그인</th>\n",
       "      <td>0.169</td>\n",
       "      <td>-0.152</td>\n",
       "      <td>1.000</td>\n",
       "      <td>-0.102</td>\n",
       "      <td>-0.034</td>\n",
       "      <td>0.015</td>\n",
       "      <td>0.089</td>\n",
       "      <td>0.007</td>\n",
       "      <td>-0.123</td>\n",
       "      <td>-0.076</td>\n",
       "      <td>-0.028</td>\n",
       "      <td>-0.123</td>\n",
       "      <td>-0.068</td>\n",
       "      <td>0.089</td>\n",
       "      <td>-0.088</td>\n",
       "    </tr>\n",
       "    <tr>\n",
       "      <th>무기강화</th>\n",
       "      <td>-0.020</td>\n",
       "      <td>0.211</td>\n",
       "      <td>-0.102</td>\n",
       "      <td>1.000</td>\n",
       "      <td>0.002</td>\n",
       "      <td>0.054</td>\n",
       "      <td>-0.216</td>\n",
       "      <td>0.141</td>\n",
       "      <td>0.215</td>\n",
       "      <td>0.144</td>\n",
       "      <td>0.226</td>\n",
       "      <td>0.215</td>\n",
       "      <td>-0.007</td>\n",
       "      <td>-0.101</td>\n",
       "      <td>0.075</td>\n",
       "    </tr>\n",
       "    <tr>\n",
       "      <th>소탕</th>\n",
       "      <td>-0.028</td>\n",
       "      <td>0.116</td>\n",
       "      <td>-0.034</td>\n",
       "      <td>0.002</td>\n",
       "      <td>1.000</td>\n",
       "      <td>-0.218</td>\n",
       "      <td>0.212</td>\n",
       "      <td>0.218</td>\n",
       "      <td>-0.013</td>\n",
       "      <td>0.105</td>\n",
       "      <td>0.246</td>\n",
       "      <td>-0.013</td>\n",
       "      <td>0.097</td>\n",
       "      <td>0.180</td>\n",
       "      <td>0.134</td>\n",
       "    </tr>\n",
       "    <tr>\n",
       "      <th>스테이지플레이</th>\n",
       "      <td>-0.024</td>\n",
       "      <td>0.226</td>\n",
       "      <td>0.015</td>\n",
       "      <td>0.054</td>\n",
       "      <td>-0.218</td>\n",
       "      <td>1.000</td>\n",
       "      <td>-0.023</td>\n",
       "      <td>-0.070</td>\n",
       "      <td>0.158</td>\n",
       "      <td>0.046</td>\n",
       "      <td>0.237</td>\n",
       "      <td>0.158</td>\n",
       "      <td>0.004</td>\n",
       "      <td>-0.103</td>\n",
       "      <td>0.096</td>\n",
       "    </tr>\n",
       "    <tr>\n",
       "      <th>뽑기</th>\n",
       "      <td>0.127</td>\n",
       "      <td>-0.233</td>\n",
       "      <td>0.089</td>\n",
       "      <td>-0.216</td>\n",
       "      <td>0.212</td>\n",
       "      <td>-0.023</td>\n",
       "      <td>1.000</td>\n",
       "      <td>0.152</td>\n",
       "      <td>-0.069</td>\n",
       "      <td>-0.007</td>\n",
       "      <td>0.116</td>\n",
       "      <td>-0.069</td>\n",
       "      <td>0.004</td>\n",
       "      <td>0.260</td>\n",
       "      <td>0.096</td>\n",
       "    </tr>\n",
       "    <tr>\n",
       "      <th>노점상구매</th>\n",
       "      <td>0.102</td>\n",
       "      <td>0.083</td>\n",
       "      <td>0.007</td>\n",
       "      <td>0.141</td>\n",
       "      <td>0.218</td>\n",
       "      <td>-0.070</td>\n",
       "      <td>0.152</td>\n",
       "      <td>1.000</td>\n",
       "      <td>0.037</td>\n",
       "      <td>0.133</td>\n",
       "      <td>0.285</td>\n",
       "      <td>0.037</td>\n",
       "      <td>0.013</td>\n",
       "      <td>0.053</td>\n",
       "      <td>0.171</td>\n",
       "    </tr>\n",
       "    <tr>\n",
       "      <th>전투템구매</th>\n",
       "      <td>-0.024</td>\n",
       "      <td>0.135</td>\n",
       "      <td>-0.123</td>\n",
       "      <td>0.215</td>\n",
       "      <td>-0.013</td>\n",
       "      <td>0.158</td>\n",
       "      <td>-0.069</td>\n",
       "      <td>0.037</td>\n",
       "      <td>1.000</td>\n",
       "      <td>-0.051</td>\n",
       "      <td>0.160</td>\n",
       "      <td>1.000</td>\n",
       "      <td>-0.039</td>\n",
       "      <td>-0.134</td>\n",
       "      <td>0.122</td>\n",
       "    </tr>\n",
       "    <tr>\n",
       "      <th>이벤트상품구매</th>\n",
       "      <td>0.023</td>\n",
       "      <td>0.167</td>\n",
       "      <td>-0.076</td>\n",
       "      <td>0.144</td>\n",
       "      <td>0.105</td>\n",
       "      <td>0.046</td>\n",
       "      <td>-0.007</td>\n",
       "      <td>0.133</td>\n",
       "      <td>-0.051</td>\n",
       "      <td>1.000</td>\n",
       "      <td>0.114</td>\n",
       "      <td>-0.051</td>\n",
       "      <td>0.306</td>\n",
       "      <td>0.044</td>\n",
       "      <td>0.165</td>\n",
       "    </tr>\n",
       "    <tr>\n",
       "      <th>재화구매</th>\n",
       "      <td>0.172</td>\n",
       "      <td>0.242</td>\n",
       "      <td>-0.028</td>\n",
       "      <td>0.226</td>\n",
       "      <td>0.246</td>\n",
       "      <td>0.237</td>\n",
       "      <td>0.116</td>\n",
       "      <td>0.285</td>\n",
       "      <td>0.160</td>\n",
       "      <td>0.114</td>\n",
       "      <td>1.000</td>\n",
       "      <td>0.160</td>\n",
       "      <td>0.051</td>\n",
       "      <td>-0.028</td>\n",
       "      <td>0.282</td>\n",
       "    </tr>\n",
       "    <tr>\n",
       "      <th>스태미나전송</th>\n",
       "      <td>-0.024</td>\n",
       "      <td>0.135</td>\n",
       "      <td>-0.123</td>\n",
       "      <td>0.215</td>\n",
       "      <td>-0.013</td>\n",
       "      <td>0.158</td>\n",
       "      <td>-0.069</td>\n",
       "      <td>0.037</td>\n",
       "      <td>1.000</td>\n",
       "      <td>-0.051</td>\n",
       "      <td>0.160</td>\n",
       "      <td>1.000</td>\n",
       "      <td>-0.039</td>\n",
       "      <td>-0.134</td>\n",
       "      <td>0.122</td>\n",
       "    </tr>\n",
       "    <tr>\n",
       "      <th>캐릭터제작</th>\n",
       "      <td>0.025</td>\n",
       "      <td>0.337</td>\n",
       "      <td>-0.068</td>\n",
       "      <td>-0.007</td>\n",
       "      <td>0.097</td>\n",
       "      <td>0.004</td>\n",
       "      <td>0.004</td>\n",
       "      <td>0.013</td>\n",
       "      <td>-0.039</td>\n",
       "      <td>0.306</td>\n",
       "      <td>0.051</td>\n",
       "      <td>-0.039</td>\n",
       "      <td>1.000</td>\n",
       "      <td>-0.033</td>\n",
       "      <td>0.094</td>\n",
       "    </tr>\n",
       "    <tr>\n",
       "      <th>가속</th>\n",
       "      <td>0.122</td>\n",
       "      <td>-0.276</td>\n",
       "      <td>0.089</td>\n",
       "      <td>-0.101</td>\n",
       "      <td>0.180</td>\n",
       "      <td>-0.103</td>\n",
       "      <td>0.260</td>\n",
       "      <td>0.053</td>\n",
       "      <td>-0.134</td>\n",
       "      <td>0.044</td>\n",
       "      <td>-0.028</td>\n",
       "      <td>-0.134</td>\n",
       "      <td>-0.033</td>\n",
       "      <td>1.000</td>\n",
       "      <td>-0.012</td>\n",
       "    </tr>\n",
       "    <tr>\n",
       "      <th>결제여부</th>\n",
       "      <td>0.077</td>\n",
       "      <td>0.069</td>\n",
       "      <td>-0.088</td>\n",
       "      <td>0.075</td>\n",
       "      <td>0.134</td>\n",
       "      <td>0.096</td>\n",
       "      <td>0.096</td>\n",
       "      <td>0.171</td>\n",
       "      <td>0.122</td>\n",
       "      <td>0.165</td>\n",
       "      <td>0.282</td>\n",
       "      <td>0.122</td>\n",
       "      <td>0.094</td>\n",
       "      <td>-0.012</td>\n",
       "      <td>1.000</td>\n",
       "    </tr>\n",
       "  </tbody>\n",
       "</table>\n",
       "</div>"
      ],
      "text/plain": [
       "         연구/훈련   계정레벨    로그인   무기강화     소탕  스테이지플레이     뽑기  노점상구매  전투템구매  \\\n",
       "연구/훈련    1.000  0.004  0.169 -0.020 -0.028   -0.024  0.127  0.102 -0.024   \n",
       "계정레벨     0.004  1.000 -0.152  0.211  0.116    0.226 -0.233  0.083  0.135   \n",
       "로그인      0.169 -0.152  1.000 -0.102 -0.034    0.015  0.089  0.007 -0.123   \n",
       "무기강화    -0.020  0.211 -0.102  1.000  0.002    0.054 -0.216  0.141  0.215   \n",
       "소탕      -0.028  0.116 -0.034  0.002  1.000   -0.218  0.212  0.218 -0.013   \n",
       "스테이지플레이 -0.024  0.226  0.015  0.054 -0.218    1.000 -0.023 -0.070  0.158   \n",
       "뽑기       0.127 -0.233  0.089 -0.216  0.212   -0.023  1.000  0.152 -0.069   \n",
       "노점상구매    0.102  0.083  0.007  0.141  0.218   -0.070  0.152  1.000  0.037   \n",
       "전투템구매   -0.024  0.135 -0.123  0.215 -0.013    0.158 -0.069  0.037  1.000   \n",
       "이벤트상품구매  0.023  0.167 -0.076  0.144  0.105    0.046 -0.007  0.133 -0.051   \n",
       "재화구매     0.172  0.242 -0.028  0.226  0.246    0.237  0.116  0.285  0.160   \n",
       "스태미나전송  -0.024  0.135 -0.123  0.215 -0.013    0.158 -0.069  0.037  1.000   \n",
       "캐릭터제작    0.025  0.337 -0.068 -0.007  0.097    0.004  0.004  0.013 -0.039   \n",
       "가속       0.122 -0.276  0.089 -0.101  0.180   -0.103  0.260  0.053 -0.134   \n",
       "결제여부     0.077  0.069 -0.088  0.075  0.134    0.096  0.096  0.171  0.122   \n",
       "\n",
       "         이벤트상품구매   재화구매  스태미나전송  캐릭터제작     가속   결제여부  \n",
       "연구/훈련      0.023  0.172  -0.024  0.025  0.122  0.077  \n",
       "계정레벨       0.167  0.242   0.135  0.337 -0.276  0.069  \n",
       "로그인       -0.076 -0.028  -0.123 -0.068  0.089 -0.088  \n",
       "무기강화       0.144  0.226   0.215 -0.007 -0.101  0.075  \n",
       "소탕         0.105  0.246  -0.013  0.097  0.180  0.134  \n",
       "스테이지플레이    0.046  0.237   0.158  0.004 -0.103  0.096  \n",
       "뽑기        -0.007  0.116  -0.069  0.004  0.260  0.096  \n",
       "노점상구매      0.133  0.285   0.037  0.013  0.053  0.171  \n",
       "전투템구매     -0.051  0.160   1.000 -0.039 -0.134  0.122  \n",
       "이벤트상품구매    1.000  0.114  -0.051  0.306  0.044  0.165  \n",
       "재화구매       0.114  1.000   0.160  0.051 -0.028  0.282  \n",
       "스태미나전송    -0.051  0.160   1.000 -0.039 -0.134  0.122  \n",
       "캐릭터제작      0.306  0.051  -0.039  1.000 -0.033  0.094  \n",
       "가속         0.044 -0.028  -0.134 -0.033  1.000 -0.012  \n",
       "결제여부       0.165  0.282   0.122  0.094 -0.012  1.000  "
      ]
     },
     "execution_count": 8,
     "metadata": {},
     "output_type": "execute_result"
    }
   ],
   "source": [
    "# 상관관계 (Correlation) 분석 \n",
    "# 1 :  상관 (양의 상관관계)\n",
    "# 0 :  무상관\n",
    "# -1 : 반상관 (음의 상관관계)\n",
    "\n",
    "corr = train.corr()\n",
    "corr = corr.applymap(lambda x: round(x,3))\n",
    "\n",
    "corr"
   ]
  },
  {
   "cell_type": "code",
   "execution_count": 9,
   "metadata": {},
   "outputs": [
    {
     "data": {
      "text/plain": [
       "Text(0.5,1,'Heatmap of Correlation Matrix')"
      ]
     },
     "execution_count": 9,
     "metadata": {},
     "output_type": "execute_result"
    },
    {
     "data": {
      "image/png": "[encoded data removed]",
      "text/plain": [
       "<matplotlib.figure.Figure at 0x1a17ec5240>"
      ]
     },
     "metadata": {},
     "output_type": "display_data"
    }
   ],
   "source": [
    "plt.figure(figsize=(17,12))\n",
    "sns.heatmap(corr, annot=True, fmt='.2f', cmap='RdBu_r', vmax=.3, vmin=-.3)\n",
    "plt.title('Heatmap of Correlation Matrix')"
   ]
  },
  {
   "cell_type": "markdown",
   "metadata": {},
   "source": [
    "## Feature 선택\n",
    "* 상점에 대한 피처들이 결제여부에 중요한 요소"
   ]
  },
  {
   "cell_type": "code",
   "execution_count": 10,
   "metadata": {},
   "outputs": [],
   "source": [
    "feature_names = [\"재화구매\", \"이벤트상품구매\", \"노점상구매\", \"전투템구매\"]"
   ]
  },
  {
   "cell_type": "code",
   "execution_count": 11,
   "metadata": {},
   "outputs": [
    {
     "name": "stdout",
     "output_type": "stream",
     "text": [
      "(835, 4)\n"
     ]
    },
    {
     "data": {
      "text/html": [
       "<div>\n",
       "<style>\n",
       "    .dataframe thead tr:only-child th {\n",
       "        text-align: right;\n",
       "    }\n",
       "\n",
       "    .dataframe thead th {\n",
       "        text-align: left;\n",
       "    }\n",
       "\n",
       "    .dataframe tbody tr th {\n",
       "        vertical-align: top;\n",
       "    }\n",
       "</style>\n",
       "<table border=\"1\" class=\"dataframe\">\n",
       "  <thead>\n",
       "    <tr style=\"text-align: right;\">\n",
       "      <th></th>\n",
       "      <th>재화구매</th>\n",
       "      <th>이벤트상품구매</th>\n",
       "      <th>노점상구매</th>\n",
       "      <th>전투템구매</th>\n",
       "    </tr>\n",
       "    <tr>\n",
       "      <th>닉네임</th>\n",
       "      <th></th>\n",
       "      <th></th>\n",
       "      <th></th>\n",
       "      <th></th>\n",
       "    </tr>\n",
       "  </thead>\n",
       "  <tbody>\n",
       "    <tr>\n",
       "      <th>간장공장</th>\n",
       "      <td>1</td>\n",
       "      <td>0</td>\n",
       "      <td>11</td>\n",
       "      <td>0</td>\n",
       "    </tr>\n",
       "    <tr>\n",
       "      <th>에돌이</th>\n",
       "      <td>0</td>\n",
       "      <td>3</td>\n",
       "      <td>6</td>\n",
       "      <td>0</td>\n",
       "    </tr>\n",
       "    <tr>\n",
       "      <th>샤킁</th>\n",
       "      <td>0</td>\n",
       "      <td>1</td>\n",
       "      <td>6</td>\n",
       "      <td>3</td>\n",
       "    </tr>\n",
       "    <tr>\n",
       "      <th>레스타트</th>\n",
       "      <td>1</td>\n",
       "      <td>0</td>\n",
       "      <td>8</td>\n",
       "      <td>17</td>\n",
       "    </tr>\n",
       "    <tr>\n",
       "      <th>보송보송해</th>\n",
       "      <td>0</td>\n",
       "      <td>0</td>\n",
       "      <td>18</td>\n",
       "      <td>0</td>\n",
       "    </tr>\n",
       "  </tbody>\n",
       "</table>\n",
       "</div>"
      ],
      "text/plain": [
       "       재화구매  이벤트상품구매  노점상구매  전투템구매\n",
       "닉네임                               \n",
       "간장공장      1        0     11      0\n",
       "에돌이       0        3      6      0\n",
       "샤킁        0        1      6      3\n",
       "레스타트      1        0      8     17\n",
       "보송보송해     0        0     18      0"
      ]
     },
     "execution_count": 11,
     "metadata": {},
     "output_type": "execute_result"
    }
   ],
   "source": [
    "# 학습 데이터 추출\n",
    "X_train = train[feature_names]\n",
    "print(X_train.shape)\n",
    "X_train.head()"
   ]
  },
  {
   "cell_type": "code",
   "execution_count": 12,
   "metadata": {},
   "outputs": [
    {
     "data": {
      "text/plain": [
       "닉네임\n",
       "간장공장     0\n",
       "에돌이      0\n",
       "샤킁       0\n",
       "레스타트     0\n",
       "보송보송해    0\n",
       "Name: 결제여부, dtype: int64"
      ]
     },
     "execution_count": 12,
     "metadata": {},
     "output_type": "execute_result"
    }
   ],
   "source": [
    "# 학습 데이터 정답\n",
    "y_train = train[\"결제여부\"]\n",
    "y_train.head()"
   ]
  },
  {
   "cell_type": "code",
   "execution_count": 13,
   "metadata": {},
   "outputs": [
    {
     "name": "stdout",
     "output_type": "stream",
     "text": [
      "(500, 4)\n"
     ]
    },
    {
     "data": {
      "text/html": [
       "<div>\n",
       "<style>\n",
       "    .dataframe thead tr:only-child th {\n",
       "        text-align: right;\n",
       "    }\n",
       "\n",
       "    .dataframe thead th {\n",
       "        text-align: left;\n",
       "    }\n",
       "\n",
       "    .dataframe tbody tr th {\n",
       "        vertical-align: top;\n",
       "    }\n",
       "</style>\n",
       "<table border=\"1\" class=\"dataframe\">\n",
       "  <thead>\n",
       "    <tr style=\"text-align: right;\">\n",
       "      <th></th>\n",
       "      <th>재화구매</th>\n",
       "      <th>이벤트상품구매</th>\n",
       "      <th>노점상구매</th>\n",
       "      <th>전투템구매</th>\n",
       "    </tr>\n",
       "    <tr>\n",
       "      <th>닉네임</th>\n",
       "      <th></th>\n",
       "      <th></th>\n",
       "      <th></th>\n",
       "      <th></th>\n",
       "    </tr>\n",
       "  </thead>\n",
       "  <tbody>\n",
       "    <tr>\n",
       "      <th>청월영</th>\n",
       "      <td>3</td>\n",
       "      <td>0</td>\n",
       "      <td>7</td>\n",
       "      <td>0</td>\n",
       "    </tr>\n",
       "    <tr>\n",
       "      <th>지푸라기</th>\n",
       "      <td>1</td>\n",
       "      <td>4</td>\n",
       "      <td>9</td>\n",
       "      <td>8</td>\n",
       "    </tr>\n",
       "    <tr>\n",
       "      <th>루미</th>\n",
       "      <td>0</td>\n",
       "      <td>2</td>\n",
       "      <td>0</td>\n",
       "      <td>1</td>\n",
       "    </tr>\n",
       "    <tr>\n",
       "      <th>DREAM</th>\n",
       "      <td>14</td>\n",
       "      <td>0</td>\n",
       "      <td>4</td>\n",
       "      <td>0</td>\n",
       "    </tr>\n",
       "    <tr>\n",
       "      <th>먼저간다</th>\n",
       "      <td>4</td>\n",
       "      <td>0</td>\n",
       "      <td>13</td>\n",
       "      <td>24</td>\n",
       "    </tr>\n",
       "  </tbody>\n",
       "</table>\n",
       "</div>"
      ],
      "text/plain": [
       "       재화구매  이벤트상품구매  노점상구매  전투템구매\n",
       "닉네임                               \n",
       "청월영       3        0      7      0\n",
       "지푸라기      1        4      9      8\n",
       "루미        0        2      0      1\n",
       "DREAM    14        0      4      0\n",
       "먼저간다      4        0     13     24"
      ]
     },
     "execution_count": 13,
     "metadata": {},
     "output_type": "execute_result"
    }
   ],
   "source": [
    "# 검증 데이터 추출\n",
    "X_test = test[feature_names]\n",
    "print(X_test.shape)\n",
    "X_test.head()"
   ]
  },
  {
   "cell_type": "code",
   "execution_count": 14,
   "metadata": {},
   "outputs": [
    {
     "data": {
      "text/plain": [
       "닉네임\n",
       "간장공장     0\n",
       "에돌이      0\n",
       "샤킁       0\n",
       "레스타트     0\n",
       "보송보송해    0\n",
       "Name: 결제여부, dtype: int64"
      ]
     },
     "execution_count": 14,
     "metadata": {},
     "output_type": "execute_result"
    }
   ],
   "source": [
    "# 학습 데이터 정답 (상위에서 미리 설정해둠)\n",
    "y_train.head()"
   ]
  },
  {
   "cell_type": "code",
   "execution_count": 15,
   "metadata": {},
   "outputs": [
    {
     "name": "stderr",
     "output_type": "stream",
     "text": [
      "/anaconda3/lib/python3.6/site-packages/sklearn/cross_validation.py:41: DeprecationWarning: This module was deprecated in version 0.18 in favor of the model_selection module into which all the refactored classes and functions are moved. Also note that the interface of the new CV iterators are different from that of this module. This module will be removed in 0.20.\n",
      "  \"This module will be removed in 0.20.\", DeprecationWarning)\n"
     ]
    }
   ],
   "source": [
    "# SkLearn (머신러닝 패키지)\n",
    "from sklearn.pipeline import Pipeline\n",
    "from sklearn.metrics import accuracy_score\n",
    "\n",
    "from sklearn.ensemble import RandomForestClassifier\n",
    "from sklearn.tree import DecisionTreeClassifier\n",
    "from sklearn.linear_model import LogisticRegression\n",
    "from sklearn.neighbors import KNeighborsClassifier\n",
    "from sklearn.naive_bayes import MultinomialNB\n",
    "from sklearn.neural_network import MLPClassifier\n",
    "from sklearn.ensemble import GradientBoostingClassifier\n",
    "from sklearn.svm import SVC\n",
    "from sklearn.cross_validation import cross_val_score\n",
    "\n",
    "from time import time\n",
    "from sklearn import metrics\n",
    "from optparse import OptionParser"
   ]
  },
  {
   "cell_type": "code",
   "execution_count": 16,
   "metadata": {},
   "outputs": [
    {
     "name": "stdout",
     "output_type": "stream",
     "text": [
      "Train set accuracy =  0.877844311377\n",
      "Test set accuracy =  0.808\n"
     ]
    }
   ],
   "source": [
    "# Decision Tree 알고리즘으로 학습을 시작한다.\n",
    "tree = DecisionTreeClassifier(random_state=37, max_depth=5)\n",
    "tree.fit(X_train, y_train)\n",
    "\n",
    "print(\"Train set accuracy = \", tree.score(X_train, y_train))\n",
    "print(\"Test set accuracy = \", tree.score(X_test, y_test))"
   ]
  },
  {
   "cell_type": "code",
   "execution_count": 17,
   "metadata": {},
   "outputs": [
    {
     "name": "stdout",
     "output_type": "stream",
     "text": [
      "Train set accuracy =  0.985628742515\n",
      "Test set accuracy =  0.808\n",
      "             precision    recall  f1-score   support\n",
      "\n",
      "          0       0.81      0.99      0.89       406\n",
      "          1       0.25      0.01      0.02        94\n",
      "\n",
      "avg / total       0.71      0.81      0.73       500\n",
      "\n",
      "Random Forest:\n",
      " [[403   3]\n",
      " [ 93   1]]\n"
     ]
    }
   ],
   "source": [
    "# Random Forest 알고리즘으로 학습을 시작한다.\n",
    "randomforest = RandomForestClassifier(n_estimators=1000, max_depth=None, \n",
    "                                      min_samples_split=2, \n",
    "                                      random_state=10)\n",
    "randomforest.fit(X_train, y_train)\n",
    "\n",
    "print(\"Train set accuracy = \", randomforest.score(X_train, y_train))\n",
    "print(\"Test set accuracy = \", randomforest.score(X_test, y_test))\n",
    "#print(\"CV 10fold = \", cross_val_score(randomforest, train, test, cv=10).mean())\n",
    "print(metrics.classification_report(y_test, tree.predict(X_test)))\n",
    "print(\"Random Forest:\\n\", metrics.confusion_matrix(y_test, tree.predict(X_test)))"
   ]
  },
  {
   "cell_type": "code",
   "execution_count": 18,
   "metadata": {},
   "outputs": [
    {
     "name": "stdout",
     "output_type": "stream",
     "text": [
      "Train set accuracy =  0.900598802395\n",
      "Test set accuracy =  0.804\n"
     ]
    }
   ],
   "source": [
    "# Gradient Boostring Decision Tree 알고리즘으로 학습을 시작한다.\n",
    "gbdt = GradientBoostingClassifier(n_estimators=1000, \n",
    "                                  max_depth=4,\n",
    "                                  min_weight_fraction_leaf=0.1,\n",
    "                                  random_state = 10)\n",
    "gbdt.fit(X_train, y_train)\n",
    "\n",
    "print(\"Train set accuracy = \", gbdt.score(X_train, y_train))\n",
    "print(\"Test set accuracy = \", gbdt.score(X_test, y_test))"
   ]
  },
  {
   "cell_type": "code",
   "execution_count": 19,
   "metadata": {},
   "outputs": [
    {
     "name": "stdout",
     "output_type": "stream",
     "text": [
      "Train set accuracy =  0.864670658683\n",
      "Test set accuracy =  0.812\n"
     ]
    }
   ],
   "source": [
    "# Logistic Regression 알고리즘으로 학습을 시작한다.\n",
    "logistic = LogisticRegression(random_state=10)\n",
    "logistic.fit(X_train, y_train)\n",
    "\n",
    "print(\"Train set accuracy = \", logistic.score(X_train, y_train))\n",
    "print(\"Test set accuracy = \", logistic.score(X_test, y_test))\n",
    "#print(\"CV 10fold = \", cross_val_score(logistic, X, y, cv=10).mean())"
   ]
  },
  {
   "cell_type": "code",
   "execution_count": 20,
   "metadata": {},
   "outputs": [
    {
     "name": "stdout",
     "output_type": "stream",
     "text": [
      "Train set accuracy =  0.920958083832\n",
      "Test set accuracy =  0.814\n"
     ]
    }
   ],
   "source": [
    "# Support Vector Machine 알고리즘으로 학습을 시작한다.\n",
    "svc = SVC(random_state=10)\n",
    "svc.fit(X_train, y_train)\n",
    "\n",
    "print(\"Train set accuracy = \", svc.score(X_train, y_train))\n",
    "print(\"Test set accuracy = \", svc.score(X_test, y_test))\n",
    "#print(\"CV 10fold = \", cross_val_score(svc, X, y, cv=10).mean())"
   ]
  },
  {
   "cell_type": "code",
   "execution_count": 21,
   "metadata": {},
   "outputs": [
    {
     "name": "stdout",
     "output_type": "stream",
     "text": [
      "Train set accuracy =  0.985628742515\n",
      "Test set accuracy =  0.808\n"
     ]
    }
   ],
   "source": [
    "# K-Nearest Neighbers 알고리즘으로 학습을 시작한다.\n",
    "knn = KNeighborsClassifier(weights='distance', n_neighbors=5)\n",
    "knn.fit(X_train, y_train)\n",
    "\n",
    "print(\"Train set accuracy = \", knn.score(X_train, y_train))\n",
    "print(\"Test set accuracy = \", knn.score(X_test, y_test))\n",
    "#print(\"CV 10fold = \", cross_val_score(knn, X, y, cv=10).mean())"
   ]
  },
  {
   "cell_type": "code",
   "execution_count": 22,
   "metadata": {},
   "outputs": [
    {
     "name": "stdout",
     "output_type": "stream",
     "text": [
      "Train set accuracy =  0.822754491018\n",
      "Test set accuracy =  0.792\n"
     ]
    }
   ],
   "source": [
    "# Multinomia Naive Bayes 알고리즘으로 학습을 시작한다.\n",
    "nb = MultinomialNB(alpha=.1)\n",
    "nb.fit(X_train, y_train)\n",
    "\n",
    "print(\"Train set accuracy = \", nb.score(X_train, y_train))\n",
    "print(\"Test set accuracy = \", nb.score(X_test, y_test))\n",
    "#print(\"CV 10fold = \", cross_val_score(nb, X, y, cv=10).mean())"
   ]
  },
  {
   "cell_type": "code",
   "execution_count": 23,
   "metadata": {},
   "outputs": [
    {
     "name": "stdout",
     "output_type": "stream",
     "text": [
      "Train set accuracy =  0.853892215569\n",
      "Test set accuracy =  0.812\n"
     ]
    }
   ],
   "source": [
    "# Multi-Layer Perceptron 알고리즘으로 학습을 시작한다.\n",
    "mlp = MLPClassifier(solver='lbfgs', alpha=1e-5, hidden_layer_sizes=(20, 4), random_state=10, max_iter=1000)\n",
    "mlp.fit(X_train, y_train)\n",
    "\n",
    "print(\"Train set accuracy = \", mlp.score(X_train, y_train))\n",
    "print(\"Test set accuracy = \", mlp.score(X_test, y_test))\n",
    "#print(\"CV 10fold = \", cross_val_score(mlp, X, y, cv=10).mean())"
   ]
  },
  {
   "cell_type": "code",
   "execution_count": 24,
   "metadata": {},
   "outputs": [
    {
     "data": {
      "text/plain": [
       "<matplotlib.axes._subplots.AxesSubplot at 0x1a18f39b00>"
      ]
     },
     "execution_count": 24,
     "metadata": {},
     "output_type": "execute_result"
    },
    {
     "data": {
      "image/png": "[encoded data removed]",
      "text/plain": [
       "<matplotlib.figure.Figure at 0x1a18f39390>"
      ]
     },
     "metadata": {},
     "output_type": "display_data"
    }
   ],
   "source": [
    "# 각각의 모델을 비교해본다.\n",
    "models = [tree, randomforest, gbdt, logistic, svc, knn, nb]\n",
    "modelNames = ['Decision Tree', 'RandomForest', 'GBDT', 'LogisticRegression', 'SVC', 'KNN', 'NavieBayse']\n",
    "\n",
    "scores = [(name, clf.score(X_train, y_train), clf.score(X_test, y_test)) for name, clf in zip(modelNames, models)]\n",
    "score_ds = pd.DataFrame(scores, columns=['Model', 'Train Accuracy', 'Test Accuracy'])\n",
    "\n",
    "score_ds.plot(kind='barh', x='Model', figsize=(8,6))"
   ]
  },
  {
   "cell_type": "code",
   "execution_count": 25,
   "metadata": {},
   "outputs": [
    {
     "name": "stdout",
     "output_type": "stream",
     "text": [
      "tree Test set accuracy =  0.808\n",
      "randomforest Test set accuracy =  0.808\n",
      "gbdt Test set accuracy =  0.804\n",
      "logistic Test set accuracy =  0.812\n",
      "svn Test set accuracy =  0.814\n",
      "knn Test set accuracy =  0.808\n",
      "nb Test set accuracy =  0.792\n"
     ]
    }
   ],
   "source": [
    "# 모델별로 정확도를 비교해본다. \n",
    "\n",
    "# 최고점 모델을 확인한다.\n",
    "print(\"tree Test set accuracy = \", tree.score(X_test, y_test))\n",
    "print(\"randomforest Test set accuracy = \", randomforest.score(X_test, y_test))\n",
    "print(\"gbdt Test set accuracy = \", gbdt.score(X_test, y_test))\n",
    "print(\"logistic Test set accuracy = \", logistic.score(X_test, y_test))\n",
    "print(\"svn Test set accuracy = \", svc.score(X_test, y_test))\n",
    "print(\"knn Test set accuracy = \", knn.score(X_test, y_test))\n",
    "print(\"nb Test set accuracy = \", nb.score(X_test, y_test))\n",
    "# print(\"Test set accuracy = \", mlp.score(X_test, y_test))\n"
   ]
  }
 ],
 "metadata": {
  "kernelspec": {
   "display_name": "Python 3",
   "language": "python",
   "name": "python3"
  },
  "language_info": {
   "codemirror_mode": {
    "name": "ipython",
    "version": 3
   },
   "file_extension": ".py",
   "mimetype": "text/x-python",
   "name": "python",
   "nbconvert_exporter": "python",
   "pygments_lexer": "ipython3",
   "version": "3.6.3"
  }
 },
 "nbformat": 4,
 "nbformat_minor": 2
}
